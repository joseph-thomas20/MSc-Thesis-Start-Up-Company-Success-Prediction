{
 "cells": [
  {
   "cell_type": "code",
   "execution_count": 1,
   "id": "1c4e559d",
   "metadata": {},
   "outputs": [],
   "source": [
    "import pandas as pd\n",
    "import numpy as np\n",
    "import seaborn as sns"
   ]
  },
  {
   "cell_type": "code",
   "execution_count": 2,
   "id": "4630c415",
   "metadata": {},
   "outputs": [
    {
     "data": {
      "text/html": [
       "<div>\n",
       "<style scoped>\n",
       "    .dataframe tbody tr th:only-of-type {\n",
       "        vertical-align: middle;\n",
       "    }\n",
       "\n",
       "    .dataframe tbody tr th {\n",
       "        vertical-align: top;\n",
       "    }\n",
       "\n",
       "    .dataframe thead th {\n",
       "        text-align: right;\n",
       "    }\n",
       "</style>\n",
       "<table border=\"1\" class=\"dataframe\">\n",
       "  <thead>\n",
       "    <tr style=\"text-align: right;\">\n",
       "      <th></th>\n",
       "      <th>uuid</th>\n",
       "      <th>name</th>\n",
       "      <th>type</th>\n",
       "      <th>permalink</th>\n",
       "      <th>cb_url</th>\n",
       "      <th>rank</th>\n",
       "      <th>created_at</th>\n",
       "      <th>updated_at</th>\n",
       "      <th>legal_name</th>\n",
       "      <th>roles</th>\n",
       "      <th>domain</th>\n",
       "      <th>homepage_url</th>\n",
       "      <th>country_code</th>\n",
       "      <th>state_code</th>\n",
       "      <th>region</th>\n",
       "      <th>city</th>\n",
       "      <th>address</th>\n",
       "      <th>postal_code</th>\n",
       "      <th>status</th>\n",
       "      <th>short_description</th>\n",
       "      <th>category_list</th>\n",
       "      <th>category_groups_list</th>\n",
       "      <th>num_funding_rounds</th>\n",
       "      <th>total_funding_usd</th>\n",
       "      <th>total_funding</th>\n",
       "      <th>total_funding_currency_code</th>\n",
       "      <th>founded_on</th>\n",
       "      <th>last_funding_on</th>\n",
       "      <th>closed_on</th>\n",
       "      <th>employee_count</th>\n",
       "      <th>email</th>\n",
       "      <th>phone</th>\n",
       "      <th>facebook_url</th>\n",
       "      <th>linkedin_url</th>\n",
       "      <th>twitter_url</th>\n",
       "      <th>logo_url</th>\n",
       "      <th>alias1</th>\n",
       "      <th>alias2</th>\n",
       "      <th>alias3</th>\n",
       "      <th>primary_role</th>\n",
       "      <th>num_exits</th>\n",
       "    </tr>\n",
       "  </thead>\n",
       "  <tbody>\n",
       "    <tr>\n",
       "      <th>0</th>\n",
       "      <td>e1393508-30ea-8a36-3f96-dd3226033abd</td>\n",
       "      <td>Wetpaint</td>\n",
       "      <td>organization</td>\n",
       "      <td>wetpaint</td>\n",
       "      <td>https://www.crunchbase.com/organization/wetpaint</td>\n",
       "      <td>223046.0</td>\n",
       "      <td>2007-05-25 13:51:27</td>\n",
       "      <td>2022-03-07 05:47:35</td>\n",
       "      <td>NaN</td>\n",
       "      <td>company</td>\n",
       "      <td>wetpaint.com</td>\n",
       "      <td>http://www.wetpaint.com/</td>\n",
       "      <td>USA</td>\n",
       "      <td>NY</td>\n",
       "      <td>New York</td>\n",
       "      <td>New York</td>\n",
       "      <td>902 Broadway 11th Floor New</td>\n",
       "      <td>10010</td>\n",
       "      <td>acquired</td>\n",
       "      <td>Wetpaint offers an online social publishing pl...</td>\n",
       "      <td>Publishing,Social Media,Social Media Management</td>\n",
       "      <td>Content and Publishing,Internet Services,Media...</td>\n",
       "      <td>3.0</td>\n",
       "      <td>3.975000e+07</td>\n",
       "      <td>3.975000e+07</td>\n",
       "      <td>USD</td>\n",
       "      <td>2005-06-01</td>\n",
       "      <td>2008-05-19</td>\n",
       "      <td>NaN</td>\n",
       "      <td>51-100</td>\n",
       "      <td>info@wetpaint.com</td>\n",
       "      <td>206-859-6300</td>\n",
       "      <td>https://www.facebook.com/Wetpaint</td>\n",
       "      <td>NaN</td>\n",
       "      <td>https://twitter.com/wetpainttv</td>\n",
       "      <td>https://res.cloudinary.com/crunchbase-producti...</td>\n",
       "      <td>NaN</td>\n",
       "      <td>NaN</td>\n",
       "      <td>NaN</td>\n",
       "      <td>company</td>\n",
       "      <td>NaN</td>\n",
       "    </tr>\n",
       "    <tr>\n",
       "      <th>1</th>\n",
       "      <td>bf4d7b0e-b34d-2fd8-d292-6049c4f7efc7</td>\n",
       "      <td>Zoho</td>\n",
       "      <td>organization</td>\n",
       "      <td>zoho</td>\n",
       "      <td>https://www.crunchbase.com/organization/zoho</td>\n",
       "      <td>94008.0</td>\n",
       "      <td>2007-05-26 02:30:28</td>\n",
       "      <td>2022-07-19 01:20:31</td>\n",
       "      <td>Zoho Corporation Pvt. Ltd.</td>\n",
       "      <td>investor,company</td>\n",
       "      <td>zoho.com</td>\n",
       "      <td>https://www.zoho.com</td>\n",
       "      <td>USA</td>\n",
       "      <td>CA</td>\n",
       "      <td>California</td>\n",
       "      <td>Pleasanton</td>\n",
       "      <td>NaN</td>\n",
       "      <td>NaN</td>\n",
       "      <td>operating</td>\n",
       "      <td>Zoho offers a suite of business, collaboration...</td>\n",
       "      <td>Cloud Computing,Collaboration,CRM,Developer To...</td>\n",
       "      <td>Administrative Services,Information Technology...</td>\n",
       "      <td>NaN</td>\n",
       "      <td>NaN</td>\n",
       "      <td>NaN</td>\n",
       "      <td>NaN</td>\n",
       "      <td>1996-03-17</td>\n",
       "      <td>NaN</td>\n",
       "      <td>NaN</td>\n",
       "      <td>10000+</td>\n",
       "      <td>sales@zohocorp.com</td>\n",
       "      <td>044 - 67447070</td>\n",
       "      <td>http://www.facebook.com/zoho</td>\n",
       "      <td>https://www.linkedin.com/company/zoho</td>\n",
       "      <td>http://twitter.com/zoho</td>\n",
       "      <td>https://res.cloudinary.com/crunchbase-producti...</td>\n",
       "      <td>NaN</td>\n",
       "      <td>NaN</td>\n",
       "      <td>NaN</td>\n",
       "      <td>company</td>\n",
       "      <td>1.0</td>\n",
       "    </tr>\n",
       "    <tr>\n",
       "      <th>2</th>\n",
       "      <td>5f2b40b8-d1b3-d323-d81a-b7a8e89553d0</td>\n",
       "      <td>Digg</td>\n",
       "      <td>organization</td>\n",
       "      <td>digg</td>\n",
       "      <td>https://www.crunchbase.com/organization/digg</td>\n",
       "      <td>27046.0</td>\n",
       "      <td>2007-05-26 03:03:23</td>\n",
       "      <td>2018-12-10 10:09:14</td>\n",
       "      <td>Digg Holdings, LLC</td>\n",
       "      <td>company</td>\n",
       "      <td>digg.com</td>\n",
       "      <td>http://www.digg.com</td>\n",
       "      <td>USA</td>\n",
       "      <td>NY</td>\n",
       "      <td>New York</td>\n",
       "      <td>New York</td>\n",
       "      <td>NaN</td>\n",
       "      <td>NaN</td>\n",
       "      <td>acquired</td>\n",
       "      <td>Digg Inc. operates a website that enables its ...</td>\n",
       "      <td>Internet,Social Media,Social Network</td>\n",
       "      <td>Internet Services,Media and Entertainment</td>\n",
       "      <td>6.0</td>\n",
       "      <td>4.900000e+07</td>\n",
       "      <td>4.900000e+07</td>\n",
       "      <td>USD</td>\n",
       "      <td>2004-10-11</td>\n",
       "      <td>2016-09-13</td>\n",
       "      <td>NaN</td>\n",
       "      <td>51-100</td>\n",
       "      <td>feedback@digg.com</td>\n",
       "      <td>877-342-7222</td>\n",
       "      <td>http://www.facebook.com/digg</td>\n",
       "      <td>http://www.linkedin.com/company/digg</td>\n",
       "      <td>http://twitter.com/digg</td>\n",
       "      <td>https://res.cloudinary.com/crunchbase-producti...</td>\n",
       "      <td>NaN</td>\n",
       "      <td>NaN</td>\n",
       "      <td>NaN</td>\n",
       "      <td>company</td>\n",
       "      <td>NaN</td>\n",
       "    </tr>\n",
       "    <tr>\n",
       "      <th>3</th>\n",
       "      <td>f4d5ab44-058b-298b-ea81-380e6e9a8eec</td>\n",
       "      <td>Omidyar Network</td>\n",
       "      <td>organization</td>\n",
       "      <td>omidyar-network</td>\n",
       "      <td>https://www.crunchbase.com/organization/omidya...</td>\n",
       "      <td>237257.0</td>\n",
       "      <td>2007-05-26 03:21:34</td>\n",
       "      <td>2022-07-19 01:45:23</td>\n",
       "      <td>NaN</td>\n",
       "      <td>investor,company</td>\n",
       "      <td>omidyar.com</td>\n",
       "      <td>http://www.omidyar.com</td>\n",
       "      <td>USA</td>\n",
       "      <td>CA</td>\n",
       "      <td>California</td>\n",
       "      <td>Redwood City</td>\n",
       "      <td>1991 Broadway Suite 200</td>\n",
       "      <td>94063</td>\n",
       "      <td>operating</td>\n",
       "      <td>Omidyar Network is an investment firm.</td>\n",
       "      <td>Enterprise Software,Financial Services,Venture...</td>\n",
       "      <td>Financial Services,Lending and Investments,Sof...</td>\n",
       "      <td>NaN</td>\n",
       "      <td>NaN</td>\n",
       "      <td>NaN</td>\n",
       "      <td>NaN</td>\n",
       "      <td>2004-01-01</td>\n",
       "      <td>NaN</td>\n",
       "      <td>NaN</td>\n",
       "      <td>101-250</td>\n",
       "      <td>info@omidyar.com</td>\n",
       "      <td>650.482.2500</td>\n",
       "      <td>http://www.facebook.com/OmidyarNetwork</td>\n",
       "      <td>http://www.linkedin.com/company/22806</td>\n",
       "      <td>http://twitter.com/OmidyarNetwork</td>\n",
       "      <td>https://res.cloudinary.com/crunchbase-producti...</td>\n",
       "      <td>NaN</td>\n",
       "      <td>NaN</td>\n",
       "      <td>NaN</td>\n",
       "      <td>investor</td>\n",
       "      <td>51.0</td>\n",
       "    </tr>\n",
       "    <tr>\n",
       "      <th>4</th>\n",
       "      <td>df662812-7f97-0b43-9d3e-12f64f504fbb</td>\n",
       "      <td>Meta</td>\n",
       "      <td>organization</td>\n",
       "      <td>facebook</td>\n",
       "      <td>https://www.crunchbase.com/organization/facebook</td>\n",
       "      <td>28.0</td>\n",
       "      <td>2007-05-26 04:22:15</td>\n",
       "      <td>2022-07-15 10:36:26</td>\n",
       "      <td>Meta Platforms, Inc.</td>\n",
       "      <td>investor,company</td>\n",
       "      <td>meta.com</td>\n",
       "      <td>https://meta.com</td>\n",
       "      <td>USA</td>\n",
       "      <td>CA</td>\n",
       "      <td>California</td>\n",
       "      <td>Menlo Park</td>\n",
       "      <td>1 Hacker Way</td>\n",
       "      <td>94025</td>\n",
       "      <td>ipo</td>\n",
       "      <td>Meta is a social technology company that enabl...</td>\n",
       "      <td>Augmented Reality,Social Media,Social Network,...</td>\n",
       "      <td>Hardware,Internet Services,Media and Entertain...</td>\n",
       "      <td>16.0</td>\n",
       "      <td>1.612282e+10</td>\n",
       "      <td>1.612282e+10</td>\n",
       "      <td>USD</td>\n",
       "      <td>2004-02-04</td>\n",
       "      <td>2014-10-20</td>\n",
       "      <td>NaN</td>\n",
       "      <td>10000+</td>\n",
       "      <td>NaN</td>\n",
       "      <td>NaN</td>\n",
       "      <td>https://www.facebook.com/Meta</td>\n",
       "      <td>https://www.linkedin.com/company/meta/</td>\n",
       "      <td>https://twitter.com/Meta</td>\n",
       "      <td>https://res.cloudinary.com/crunchbase-producti...</td>\n",
       "      <td>Facebook</td>\n",
       "      <td>Facebook, Inc.</td>\n",
       "      <td>NaN</td>\n",
       "      <td>company</td>\n",
       "      <td>NaN</td>\n",
       "    </tr>\n",
       "  </tbody>\n",
       "</table>\n",
       "</div>"
      ],
      "text/plain": [
       "                                   uuid             name          type  \\\n",
       "0  e1393508-30ea-8a36-3f96-dd3226033abd         Wetpaint  organization   \n",
       "1  bf4d7b0e-b34d-2fd8-d292-6049c4f7efc7             Zoho  organization   \n",
       "2  5f2b40b8-d1b3-d323-d81a-b7a8e89553d0             Digg  organization   \n",
       "3  f4d5ab44-058b-298b-ea81-380e6e9a8eec  Omidyar Network  organization   \n",
       "4  df662812-7f97-0b43-9d3e-12f64f504fbb             Meta  organization   \n",
       "\n",
       "         permalink                                             cb_url  \\\n",
       "0         wetpaint   https://www.crunchbase.com/organization/wetpaint   \n",
       "1             zoho       https://www.crunchbase.com/organization/zoho   \n",
       "2             digg       https://www.crunchbase.com/organization/digg   \n",
       "3  omidyar-network  https://www.crunchbase.com/organization/omidya...   \n",
       "4         facebook   https://www.crunchbase.com/organization/facebook   \n",
       "\n",
       "       rank           created_at           updated_at  \\\n",
       "0  223046.0  2007-05-25 13:51:27  2022-03-07 05:47:35   \n",
       "1   94008.0  2007-05-26 02:30:28  2022-07-19 01:20:31   \n",
       "2   27046.0  2007-05-26 03:03:23  2018-12-10 10:09:14   \n",
       "3  237257.0  2007-05-26 03:21:34  2022-07-19 01:45:23   \n",
       "4      28.0  2007-05-26 04:22:15  2022-07-15 10:36:26   \n",
       "\n",
       "                   legal_name             roles        domain  \\\n",
       "0                         NaN           company  wetpaint.com   \n",
       "1  Zoho Corporation Pvt. Ltd.  investor,company      zoho.com   \n",
       "2          Digg Holdings, LLC           company      digg.com   \n",
       "3                         NaN  investor,company   omidyar.com   \n",
       "4        Meta Platforms, Inc.  investor,company      meta.com   \n",
       "\n",
       "               homepage_url country_code state_code      region          city  \\\n",
       "0  http://www.wetpaint.com/          USA         NY    New York      New York   \n",
       "1      https://www.zoho.com          USA         CA  California    Pleasanton   \n",
       "2       http://www.digg.com          USA         NY    New York      New York   \n",
       "3    http://www.omidyar.com          USA         CA  California  Redwood City   \n",
       "4          https://meta.com          USA         CA  California    Menlo Park   \n",
       "\n",
       "                       address postal_code     status  \\\n",
       "0  902 Broadway 11th Floor New       10010   acquired   \n",
       "1                          NaN         NaN  operating   \n",
       "2                          NaN         NaN   acquired   \n",
       "3      1991 Broadway Suite 200       94063  operating   \n",
       "4                 1 Hacker Way       94025        ipo   \n",
       "\n",
       "                                   short_description  \\\n",
       "0  Wetpaint offers an online social publishing pl...   \n",
       "1  Zoho offers a suite of business, collaboration...   \n",
       "2  Digg Inc. operates a website that enables its ...   \n",
       "3             Omidyar Network is an investment firm.   \n",
       "4  Meta is a social technology company that enabl...   \n",
       "\n",
       "                                       category_list  \\\n",
       "0    Publishing,Social Media,Social Media Management   \n",
       "1  Cloud Computing,Collaboration,CRM,Developer To...   \n",
       "2               Internet,Social Media,Social Network   \n",
       "3  Enterprise Software,Financial Services,Venture...   \n",
       "4  Augmented Reality,Social Media,Social Network,...   \n",
       "\n",
       "                                category_groups_list  num_funding_rounds  \\\n",
       "0  Content and Publishing,Internet Services,Media...                 3.0   \n",
       "1  Administrative Services,Information Technology...                 NaN   \n",
       "2          Internet Services,Media and Entertainment                 6.0   \n",
       "3  Financial Services,Lending and Investments,Sof...                 NaN   \n",
       "4  Hardware,Internet Services,Media and Entertain...                16.0   \n",
       "\n",
       "   total_funding_usd  total_funding total_funding_currency_code  founded_on  \\\n",
       "0       3.975000e+07   3.975000e+07                         USD  2005-06-01   \n",
       "1                NaN            NaN                         NaN  1996-03-17   \n",
       "2       4.900000e+07   4.900000e+07                         USD  2004-10-11   \n",
       "3                NaN            NaN                         NaN  2004-01-01   \n",
       "4       1.612282e+10   1.612282e+10                         USD  2004-02-04   \n",
       "\n",
       "  last_funding_on closed_on employee_count               email  \\\n",
       "0      2008-05-19       NaN         51-100   info@wetpaint.com   \n",
       "1             NaN       NaN         10000+  sales@zohocorp.com   \n",
       "2      2016-09-13       NaN         51-100   feedback@digg.com   \n",
       "3             NaN       NaN        101-250    info@omidyar.com   \n",
       "4      2014-10-20       NaN         10000+                 NaN   \n",
       "\n",
       "            phone                            facebook_url  \\\n",
       "0    206-859-6300       https://www.facebook.com/Wetpaint   \n",
       "1  044 - 67447070            http://www.facebook.com/zoho   \n",
       "2    877-342-7222            http://www.facebook.com/digg   \n",
       "3    650.482.2500  http://www.facebook.com/OmidyarNetwork   \n",
       "4             NaN           https://www.facebook.com/Meta   \n",
       "\n",
       "                             linkedin_url                        twitter_url  \\\n",
       "0                                     NaN     https://twitter.com/wetpainttv   \n",
       "1   https://www.linkedin.com/company/zoho            http://twitter.com/zoho   \n",
       "2    http://www.linkedin.com/company/digg            http://twitter.com/digg   \n",
       "3   http://www.linkedin.com/company/22806  http://twitter.com/OmidyarNetwork   \n",
       "4  https://www.linkedin.com/company/meta/           https://twitter.com/Meta   \n",
       "\n",
       "                                            logo_url    alias1  \\\n",
       "0  https://res.cloudinary.com/crunchbase-producti...       NaN   \n",
       "1  https://res.cloudinary.com/crunchbase-producti...       NaN   \n",
       "2  https://res.cloudinary.com/crunchbase-producti...       NaN   \n",
       "3  https://res.cloudinary.com/crunchbase-producti...       NaN   \n",
       "4  https://res.cloudinary.com/crunchbase-producti...  Facebook   \n",
       "\n",
       "           alias2 alias3 primary_role  num_exits  \n",
       "0             NaN    NaN      company        NaN  \n",
       "1             NaN    NaN      company        1.0  \n",
       "2             NaN    NaN      company        NaN  \n",
       "3             NaN    NaN     investor       51.0  \n",
       "4  Facebook, Inc.    NaN      company        NaN  "
      ]
     },
     "execution_count": 2,
     "metadata": {},
     "output_type": "execute_result"
    }
   ],
   "source": [
    "pd.set_option(\"display.max.columns\", None)\n",
    "df = pd.read_csv('organizations.csv')\n",
    "df.head()"
   ]
  },
  {
   "cell_type": "code",
   "execution_count": 3,
   "id": "8e192b54",
   "metadata": {},
   "outputs": [
    {
     "data": {
      "text/plain": [
       "(2160249, 41)"
      ]
     },
     "execution_count": 3,
     "metadata": {},
     "output_type": "execute_result"
    }
   ],
   "source": [
    "df.shape"
   ]
  },
  {
   "cell_type": "markdown",
   "id": "9b2a21e9",
   "metadata": {},
   "source": [
    "### Removing Companies with vital financial information missing"
   ]
  },
  {
   "cell_type": "code",
   "execution_count": 4,
   "id": "3270b898",
   "metadata": {},
   "outputs": [],
   "source": [
    "df = df.dropna(axis=0, subset=['num_funding_rounds','total_funding_usd'])\n",
    "df = df.drop(df.loc[df['total_funding_usd']==0].index)"
   ]
  },
  {
   "cell_type": "code",
   "execution_count": 5,
   "id": "cb63a24b",
   "metadata": {},
   "outputs": [
    {
     "data": {
      "text/plain": [
       "(182748, 41)"
      ]
     },
     "execution_count": 5,
     "metadata": {},
     "output_type": "execute_result"
    }
   ],
   "source": [
    "df.shape"
   ]
  },
  {
   "cell_type": "markdown",
   "id": "40469139",
   "metadata": {},
   "source": [
    "### Removing Companies Founded Before 2012"
   ]
  },
  {
   "cell_type": "markdown",
   "id": "300c2607",
   "metadata": {},
   "source": [
    "Creating a variable that only includes the Year value from the 'founded_on' variable:"
   ]
  },
  {
   "cell_type": "code",
   "execution_count": 6,
   "id": "f65f30c1",
   "metadata": {},
   "outputs": [],
   "source": [
    "df['founded_on'] = pd.to_datetime(df['founded_on'], errors = 'coerce')\n",
    "df['founded_on'] = pd.DatetimeIndex(df['founded_on']).year"
   ]
  },
  {
   "cell_type": "code",
   "execution_count": 7,
   "id": "0ed6ea1a",
   "metadata": {},
   "outputs": [],
   "source": [
    "df['last_funding_on'] = pd.to_datetime(df['last_funding_on'], errors = 'coerce')\n",
    "df['last_funding_on'] = pd.DatetimeIndex(df['last_funding_on']).year"
   ]
  },
  {
   "cell_type": "code",
   "execution_count": 8,
   "id": "a694bb90",
   "metadata": {},
   "outputs": [],
   "source": [
    "df['closed_on'] = pd.to_datetime(df['closed_on'], errors = 'coerce')\n",
    "df['closed_on'] = pd.DatetimeIndex(df['closed_on']).year"
   ]
  },
  {
   "cell_type": "markdown",
   "id": "8238389e",
   "metadata": {},
   "source": [
    "Excluding companies not classified as start-ups:"
   ]
  },
  {
   "cell_type": "code",
   "execution_count": 9,
   "id": "66e67a5e",
   "metadata": {},
   "outputs": [],
   "source": [
    "df = df.drop(df.loc[df['founded_on']<2012.0].index)\n",
    "df = df.drop(df.loc[df['last_funding_on']<2000.0].index)"
   ]
  },
  {
   "cell_type": "code",
   "execution_count": 10,
   "id": "f4924fb5",
   "metadata": {},
   "outputs": [
    {
     "data": {
      "text/plain": [
       "(115603, 41)"
      ]
     },
     "execution_count": 10,
     "metadata": {},
     "output_type": "execute_result"
    }
   ],
   "source": [
    "df.shape"
   ]
  },
  {
   "cell_type": "markdown",
   "id": "ae59ca52",
   "metadata": {},
   "source": [
    "### Dropping Potential Ghost Firms"
   ]
  },
  {
   "cell_type": "code",
   "execution_count": 11,
   "id": "1c9a9875",
   "metadata": {},
   "outputs": [
    {
     "data": {
      "text/plain": [
       "(107269, 41)"
      ]
     },
     "execution_count": 11,
     "metadata": {},
     "output_type": "execute_result"
    }
   ],
   "source": [
    "df = df.dropna(axis=0, subset=['name','founded_on','domain'])\n",
    "df.shape"
   ]
  },
  {
   "cell_type": "markdown",
   "id": "27a883d1",
   "metadata": {},
   "source": [
    "### Dropping Companies Without Industry Specifications"
   ]
  },
  {
   "cell_type": "code",
   "execution_count": 12,
   "id": "ff9caf0a",
   "metadata": {},
   "outputs": [
    {
     "data": {
      "text/plain": [
       "(104877, 41)"
      ]
     },
     "execution_count": 12,
     "metadata": {},
     "output_type": "execute_result"
    }
   ],
   "source": [
    "df = df.dropna(axis=0, subset=['category_groups_list'])\n",
    "df.shape"
   ]
  },
  {
   "cell_type": "markdown",
   "id": "b1ae06d1",
   "metadata": {},
   "source": [
    "### Transforming Employment Count to Separate Companies Based on Size "
   ]
  },
  {
   "cell_type": "markdown",
   "id": "2600b58d",
   "metadata": {},
   "source": [
    "As per....\n",
    "* Small-Sized Enterprise: 0-50 Employees\n",
    "* Medium-Sized Enterprise: 50-250 Employees\n",
    "* Large-Sized Enterprise: 250+ Employees"
   ]
  },
  {
   "cell_type": "code",
   "execution_count": 13,
   "id": "3334713b",
   "metadata": {},
   "outputs": [
    {
     "data": {
      "text/plain": [
       "(100709, 41)"
      ]
     },
     "execution_count": 13,
     "metadata": {},
     "output_type": "execute_result"
    }
   ],
   "source": [
    "df = df.drop(df.loc[df['employee_count']=='unknown'].index)\n",
    "df.shape"
   ]
  },
  {
   "cell_type": "code",
   "execution_count": 14,
   "id": "1bcc36c4",
   "metadata": {},
   "outputs": [],
   "source": [
    "df['employee_count'] = df['employee_count'].map({'1-10': 'SSE', '11-50': 'SSE',\n",
    "                                                 '51-100': 'MSE', '101-250': 'MSE',\n",
    "                                                 '251-500': 'LSE', '501-1000': 'LSE', '1001-5000': 'LSE',\n",
    "                                                 '5001-10000': 'LSE', '10000+': 'LSE'})"
   ]
  },
  {
   "cell_type": "markdown",
   "id": "63902055",
   "metadata": {},
   "source": [
    "Mapping the variable to the individual categories created variables with near-zero variance and ran the risk of creating granularity.\n",
    "Transforming the variable to the 3 categories overcomes this issue."
   ]
  },
  {
   "cell_type": "markdown",
   "id": "3d8150d3",
   "metadata": {},
   "source": [
    "### Checking for Duplicates"
   ]
  },
  {
   "cell_type": "code",
   "execution_count": 15,
   "id": "53e23840",
   "metadata": {},
   "outputs": [
    {
     "data": {
      "text/plain": [
       "False"
      ]
     },
     "execution_count": 15,
     "metadata": {},
     "output_type": "execute_result"
    }
   ],
   "source": [
    "df.duplicated().any()"
   ]
  },
  {
   "cell_type": "markdown",
   "id": "f40a148b",
   "metadata": {},
   "source": [
    "### Transforming Total Funding (USD) Into An Integer"
   ]
  },
  {
   "cell_type": "code",
   "execution_count": 16,
   "id": "7b0da2fb",
   "metadata": {},
   "outputs": [],
   "source": [
    "df['total_funding_usd']=df['total_funding_usd'].apply(lambda x: '%.0f' % x)"
   ]
  },
  {
   "cell_type": "markdown",
   "id": "e71df910",
   "metadata": {},
   "source": [
    "### Generating Variables "
   ]
  },
  {
   "cell_type": "code",
   "execution_count": 17,
   "id": "b58024ca",
   "metadata": {},
   "outputs": [],
   "source": [
    "company_age = 2022 - df['founded_on']\n",
    "df['age'] = company_age"
   ]
  },
  {
   "cell_type": "code",
   "execution_count": 18,
   "id": "28f42da9",
   "metadata": {},
   "outputs": [
    {
     "data": {
      "text/plain": [
       "count    100709.000000\n",
       "mean          6.093179\n",
       "std           2.578281\n",
       "min           0.000000\n",
       "25%           4.000000\n",
       "50%           6.000000\n",
       "75%           8.000000\n",
       "max          10.000000\n",
       "Name: age, dtype: float64"
      ]
     },
     "execution_count": 18,
     "metadata": {},
     "output_type": "execute_result"
    }
   ],
   "source": [
    "df['age'].describe()"
   ]
  },
  {
   "cell_type": "code",
   "execution_count": 19,
   "id": "3446c818",
   "metadata": {},
   "outputs": [],
   "source": [
    "yrs_since_last_funding = 2022 - df['last_funding_on']\n",
    "df['yrs_since_last_funding'] = yrs_since_last_funding"
   ]
  },
  {
   "cell_type": "code",
   "execution_count": 20,
   "id": "7a51e51c",
   "metadata": {},
   "outputs": [
    {
     "data": {
      "text/plain": [
       "count    100709.000000\n",
       "mean          3.337666\n",
       "std           2.659835\n",
       "min           0.000000\n",
       "25%           1.000000\n",
       "50%           3.000000\n",
       "75%           5.000000\n",
       "max          22.000000\n",
       "Name: yrs_since_last_funding, dtype: float64"
      ]
     },
     "execution_count": 20,
     "metadata": {},
     "output_type": "execute_result"
    }
   ],
   "source": [
    "df['yrs_since_last_funding'].describe()"
   ]
  },
  {
   "cell_type": "code",
   "execution_count": 21,
   "id": "dbc8c8f7",
   "metadata": {},
   "outputs": [
    {
     "data": {
      "text/plain": [
       "count    100709.000000\n",
       "mean       2018.662334\n",
       "std           2.659835\n",
       "min        2000.000000\n",
       "25%        2017.000000\n",
       "50%        2019.000000\n",
       "75%        2021.000000\n",
       "max        2022.000000\n",
       "Name: last_funding_on, dtype: float64"
      ]
     },
     "execution_count": 21,
     "metadata": {},
     "output_type": "execute_result"
    }
   ],
   "source": [
    "df['last_funding_on'].describe()"
   ]
  },
  {
   "cell_type": "code",
   "execution_count": 22,
   "id": "7f209518",
   "metadata": {},
   "outputs": [],
   "source": [
    "last_funding_lag = df['last_funding_on'] - df['founded_on']\n",
    "df['last_funding_lag'] = last_funding_lag"
   ]
  },
  {
   "cell_type": "code",
   "execution_count": 23,
   "id": "1cb8cb15",
   "metadata": {},
   "outputs": [
    {
     "data": {
      "text/plain": [
       "count    100709.000000\n",
       "mean          2.755513\n",
       "std           2.287074\n",
       "min         -19.000000\n",
       "25%           1.000000\n",
       "50%           2.000000\n",
       "75%           4.000000\n",
       "max          10.000000\n",
       "Name: last_funding_lag, dtype: float64"
      ]
     },
     "execution_count": 23,
     "metadata": {},
     "output_type": "execute_result"
    }
   ],
   "source": [
    "df['last_funding_lag'].describe()"
   ]
  },
  {
   "cell_type": "markdown",
   "id": "6a9b8a0a",
   "metadata": {},
   "source": [
    "### Merging Socials"
   ]
  },
  {
   "cell_type": "code",
   "execution_count": 24,
   "id": "2ebf797d",
   "metadata": {},
   "outputs": [],
   "source": [
    "df['facebook_url'] = df['facebook_url'].fillna(0)\n",
    "df['facebook_url'] = np.where((df['facebook_url']!=0), 1, df['facebook_url'])\n",
    "df['linkedin_url'] = df['linkedin_url'].fillna(0)\n",
    "df['linkedin_url'] = np.where((df['linkedin_url']!=0), 2, df['facebook_url'])\n",
    "df['twitter_url'] = df['twitter_url'].fillna(0)\n",
    "df['twitter_url'] = np.where((df['twitter_url']!=0), 4, df['facebook_url'])\n",
    "\n",
    "df['facebook_url'] = pd.to_numeric(df['facebook_url'])\n",
    "df['linkedin_url'] = pd.to_numeric(df['linkedin_url'])\n",
    "df['twitter_url'] = pd.to_numeric(df['twitter_url'])\n",
    "\n",
    "df['social'] = df['facebook_url'] + df['linkedin_url'] + df['twitter_url']\n",
    "df = df.drop(['facebook_url', 'twitter_url', 'linkedin_url'], axis=1)"
   ]
  },
  {
   "cell_type": "code",
   "execution_count": 25,
   "id": "02f99af1",
   "metadata": {},
   "outputs": [],
   "source": [
    "df['social'] = df['social'].map({0: 'None', 1: 'Weak', 2: 'Weak',\n",
    "                                4: 'Weak', 3: 'Medium',\n",
    "                                5: 'Medium',\n",
    "                                6: 'Medium', 7: 'Strong' })"
   ]
  },
  {
   "cell_type": "markdown",
   "id": "223eb139",
   "metadata": {},
   "source": [
    "Mapping the variable to None, F, L, T, F+T, F+L, T+L, F+T+L created variables with near-zero variance and ran the risk of creating granularity. Transforming the variable to the 4 categories overcomes this issue."
   ]
  },
  {
   "cell_type": "markdown",
   "id": "a8e2b358",
   "metadata": {},
   "source": [
    "### Generating Sector Variable"
   ]
  },
  {
   "cell_type": "code",
   "execution_count": 26,
   "id": "7b4a61de",
   "metadata": {},
   "outputs": [],
   "source": [
    "#Parsing the Industry Variable (category_groups_list)\n",
    "df2 = df['category_groups_list'].str.split(',', n=1, expand = True)\n",
    "sector = df2.drop([1], axis=1)\n",
    "df['sector'] = sector"
   ]
  },
  {
   "cell_type": "code",
   "execution_count": 27,
   "id": "ea7c87e2",
   "metadata": {},
   "outputs": [
    {
     "data": {
      "text/plain": [
       "Commerce and Shopping               10083\n",
       "Financial Services                   9234\n",
       "Artificial Intelligence              8041\n",
       "Apps                                 7827\n",
       "Health Care                          5835\n",
       "Biotechnology                        5317\n",
       "Information Technology               5079\n",
       "Consumer Electronics                 3926\n",
       "Administrative Services              3880\n",
       "Data and Analytics                   3810\n",
       "Education                            3363\n",
       "Community and Lifestyle              3302\n",
       "Advertising                          3159\n",
       "Hardware                             3143\n",
       "Food and Beverage                    2489\n",
       "Internet Services                    2273\n",
       "Energy                               2105\n",
       "Agriculture and Farming              2097\n",
       "Clothing and Apparel                 1847\n",
       "Content and Publishing               1516\n",
       "Gaming                               1504\n",
       "Other                                1280\n",
       "Software                             1248\n",
       "Media and Entertainment              1105\n",
       "Manufacturing                        1065\n",
       "Consumer Goods                       1032\n",
       "Real Estate                           775\n",
       "Transportation                        678\n",
       "Design                                630\n",
       "Events                                581\n",
       "Professional Services                 482\n",
       "Mobile                                341\n",
       "Travel and Tourism                    295\n",
       "Government and Military               294\n",
       "Science and Engineering               272\n",
       "Sales and Marketing                   214\n",
       "Natural Resources                     186\n",
       "Sports                                181\n",
       "Sustainability                         88\n",
       "Privacy and Security                   77\n",
       "Messaging and Telecommunications       21\n",
       "Navigation and Mapping                 18\n",
       "Payments                               10\n",
       "Platforms                               6\n",
       "dtype: int64"
      ]
     },
     "execution_count": 27,
     "metadata": {},
     "output_type": "execute_result"
    }
   ],
   "source": [
    "sector.value_counts()"
   ]
  },
  {
   "cell_type": "code",
   "execution_count": 28,
   "id": "2d4d048f",
   "metadata": {},
   "outputs": [],
   "source": [
    "#Mapping the Industry to the corresponding sector, as per the S&P 500\n",
    "df['sector'] = df['sector'].map({\"Commerce and Shopping\": \"Consumer Staples\",\n",
    "                                 \"Financial Services\": \"Financial Services\",\n",
    "                                 \"Artificial Intelligence\": \"Technology\",\n",
    "                                 \"Apps\": \"Technology\",\n",
    "                                 \"Health Care\": \"Health Care\",\n",
    "                                 \"Biotechnology\": \"Technology\",\n",
    "                                 \"Information Technology\": \"Technology\",\n",
    "                                 \"Consumer Electronics\": \"Consumer Directory\",\n",
    "                                 \"Administrative Services\": \"Industrials\",\n",
    "                                 \"Data and Analytics\": \"Technology\",\n",
    "                                 \"Education\": \"Industrials\",\n",
    "                                 \"Community and Lifestyle\": \"Consumer Directory\",\n",
    "                                 \"Hardware\": \"Industrials\",\n",
    "                                 \"Advertising\": \"Communications Services\",\n",
    "                                 \"Food and Beverage\": \"Consumer Staples\",\n",
    "                                 \"Internet Services\": \"Technology\",\n",
    "                                 \"Energy\": \"Industrials\",\n",
    "                                 \"Agriculture and Farming\": \"Industrials\",\n",
    "                                 \"Clothing and Apparel\": \"Consumer Directory\",\n",
    "                                 \"Gaming\": \"Consumer Directory\",\n",
    "                                 \"Content and Publishing\": \"Communications Services\",\n",
    "                                 \"Other\": \"Industrials\",\n",
    "                                 \"Software\": \"Technology\",\n",
    "                                 \"Manufacturing\": \"Industrials\",\n",
    "                                 \"Media and Entertainment\": \"Consumer Directory\",\n",
    "                                 \"Consumer Goods\": \"Consumer Staples\",\n",
    "                                 \"Real Estate\": \"Real Estate\",\n",
    "                                 \"Transportation\": \"Consumer Staples\",\n",
    "                                 \"Design\": \"Industrials\",\n",
    "                                 \"Events\": \"Consumer Directory\",\n",
    "                                 \"Professional Services\": \"Industrials\",\n",
    "                                 \"Mobile\": \"Technology\",\n",
    "                                 \"Travel and Tourism\": \"Consumer Directory\",\n",
    "                                 \"Government and Military\": \"Industrials\",\n",
    "                                 \"Science and Engineering\": \"Technology\",\n",
    "                                 \"Sales and Marketing\": \"Financial Services\",\n",
    "                                 \"Natural Resources\": \"Industrials\",\n",
    "                                 \"Sports\": \"Consumer Directory\",\n",
    "                                 \"Sustainability\": \"Industrials\",\n",
    "                                 \"Privacy and Security\": \"Industrials\",\n",
    "                                 \"Messaging and Telecommunications\": \"Communications Services\",\n",
    "                                 \"Navigation and Mapping\": \"Technology\",\n",
    "                                 \"Payments\": \"Financial Services\",\n",
    "                                 \"Platforms\": \"Technology\"})"
   ]
  },
  {
   "cell_type": "code",
   "execution_count": 29,
   "id": "1469f634",
   "metadata": {},
   "outputs": [
    {
     "data": {
      "text/plain": [
       "Technology                 34232\n",
       "Industrials                18690\n",
       "Consumer Staples           14282\n",
       "Consumer Directory         12741\n",
       "Financial Services          9458\n",
       "Health Care                 5835\n",
       "Communications Services     4696\n",
       "Real Estate                  775\n",
       "Name: sector, dtype: int64"
      ]
     },
     "execution_count": 29,
     "metadata": {},
     "output_type": "execute_result"
    }
   ],
   "source": [
    "df.sector.value_counts()"
   ]
  },
  {
   "cell_type": "code",
   "execution_count": 30,
   "id": "b02ed78c",
   "metadata": {},
   "outputs": [
    {
     "data": {
      "text/plain": [
       "(100709,)"
      ]
     },
     "execution_count": 30,
     "metadata": {},
     "output_type": "execute_result"
    }
   ],
   "source": [
    "df['sector'].shape"
   ]
  },
  {
   "cell_type": "markdown",
   "id": "0b0f4e3b",
   "metadata": {},
   "source": [
    "### Transforming countrycode into Grouped Regions (Continent)"
   ]
  },
  {
   "cell_type": "code",
   "execution_count": 31,
   "id": "90bdce75",
   "metadata": {},
   "outputs": [
    {
     "data": {
      "text/plain": [
       "(99434, 43)"
      ]
     },
     "execution_count": 31,
     "metadata": {},
     "output_type": "execute_result"
    }
   ],
   "source": [
    "df = df.dropna(axis=0, subset=['country_code'])\n",
    "df.shape"
   ]
  },
  {
   "cell_type": "code",
   "execution_count": 32,
   "id": "8c06b67b",
   "metadata": {},
   "outputs": [
    {
     "data": {
      "text/plain": [
       "USA    40379\n",
       "CHN     9331\n",
       "GBR     7494\n",
       "IND     4410\n",
       "CAN     3605\n",
       "FRA     2495\n",
       "DEU     2178\n",
       "ESP     1959\n",
       "JPN     1755\n",
       "AUS     1600\n",
       "ISR     1585\n",
       "SGP     1470\n",
       "BRA     1392\n",
       "CHE     1263\n",
       "NLD     1142\n",
       "SWE     1118\n",
       "ITA     1080\n",
       "RUS      681\n",
       "KOR      639\n",
       "IRL      605\n",
       "FIN      595\n",
       "TUR      556\n",
       "MEX      547\n",
       "DNK      528\n",
       "ARE      506\n",
       "POL      505\n",
       "BEL      472\n",
       "HKG      452\n",
       "CHL      433\n",
       "IDN      413\n",
       "NOR      392\n",
       "EGY      386\n",
       "NGA      377\n",
       "EST      346\n",
       "MYS      315\n",
       "PRT      288\n",
       "ARG      286\n",
       "AUT      285\n",
       "ZAF      278\n",
       "COL      276\n",
       "HUN      238\n",
       "KEN      233\n",
       "CZE      229\n",
       "NZL      203\n",
       "SAU      196\n",
       "BGR      174\n",
       "TWN      168\n",
       "PHL      165\n",
       "PAK      163\n",
       "VNM      153\n",
       "ROM      151\n",
       "UKR      151\n",
       "LTU      146\n",
       "ISL      135\n",
       "THA      131\n",
       "LVA      130\n",
       "BGD      117\n",
       "GRC      115\n",
       "CYP      102\n",
       "LUX      100\n",
       "PER       92\n",
       "HRV       86\n",
       "JOR       78\n",
       "GHA       74\n",
       "SVK       68\n",
       "SVN       65\n",
       "LBN       62\n",
       "LKA       58\n",
       "UGA       57\n",
       "MMR       49\n",
       "SRB       47\n",
       "MLT       40\n",
       "CYM       40\n",
       "TUN       39\n",
       "MAR       38\n",
       "PRI       36\n",
       "URY       35\n",
       "KWT       30\n",
       "AZE       30\n",
       "ECU       30\n",
       "CRI       29\n",
       "IRN       28\n",
       "TAN       25\n",
       "GEO       24\n",
       "KAZ       24\n",
       "GIB       24\n",
       "BHR       24\n",
       "MUS       23\n",
       "QAT       23\n",
       "KHM       22\n",
       "ARM       21\n",
       "PAN       18\n",
       "TTO       17\n",
       "CIV       16\n",
       "BLR       16\n",
       "ETH       16\n",
       "RWA       15\n",
       "SEN       15\n",
       "CMR       15\n",
       "GTM       15\n",
       "SYC       14\n",
       "SLV       14\n",
       "VEN       14\n",
       "ZMB       14\n",
       "ZWE       13\n",
       "OMN       13\n",
       "IMN       13\n",
       "MKD       12\n",
       "LIE       12\n",
       "NPL       11\n",
       "BAH       11\n",
       "KNA       10\n",
       "MDA       10\n",
       "PSE       10\n",
       "MNG        9\n",
       "BOL        8\n",
       "COD        8\n",
       "BMU        8\n",
       "BLZ        8\n",
       "BIH        8\n",
       "NIC        8\n",
       "JAM        7\n",
       "DZA        7\n",
       "JEY        7\n",
       "IRQ        7\n",
       "ALB        6\n",
       "PRY        6\n",
       "BRB        6\n",
       "DOM        5\n",
       "GGY        5\n",
       "UZB        4\n",
       "BWA        4\n",
       "REU        4\n",
       "MLI        4\n",
       "MNE        3\n",
       "AIA        3\n",
       "HND        3\n",
       "NAM        3\n",
       "LBR        3\n",
       "MOZ        3\n",
       "AGO        3\n",
       "HTI        3\n",
       "GMB        2\n",
       "BEN        2\n",
       "SLE        2\n",
       "AFG        2\n",
       "LCA        2\n",
       "TGO        2\n",
       "TJK        1\n",
       "BRN        1\n",
       "LSO        1\n",
       "GIN        1\n",
       "SMR        1\n",
       "LAO        1\n",
       "DJI        1\n",
       "MDG        1\n",
       "SYR        1\n",
       "YEM        1\n",
       "LBY        1\n",
       "MNP        1\n",
       "BTN        1\n",
       "ASM        1\n",
       "DMA        1\n",
       "IOT        1\n",
       "GUY        1\n",
       "Name: country_code, dtype: int64"
      ]
     },
     "execution_count": 32,
     "metadata": {},
     "output_type": "execute_result"
    }
   ],
   "source": [
    "pd.set_option(\"display.max.rows\", None)\n",
    "\n",
    "df.country_code.value_counts()"
   ]
  },
  {
   "cell_type": "code",
   "execution_count": 33,
   "id": "0ae34593",
   "metadata": {},
   "outputs": [],
   "source": [
    "region = {\n",
    "    'USA': 'North America',\n",
    "    'DEU': 'Europe',\n",
    "    'CHN': 'Asia',\n",
    "    'AUS': 'Oceania',\n",
    "    'NLD': 'Europe',\n",
    "    'GBR': 'Europe',\n",
    "    'IND': 'Asia',\n",
    "    'ARG': 'South America',\n",
    "    'SGP': 'Asia',\n",
    "    'CAN': 'North America',\n",
    "    'VNM': 'South America',\n",
    "    'ARE': 'Asia',\n",
    "    'BGR': 'Europe',\n",
    "    'ESP': 'Europe',\n",
    "    'FRA': 'Europe',\n",
    "    'NOR': 'Europe',\n",
    "    'ISR': 'Asia',\n",
    "    'IDN': 'Asia',\n",
    "    'FIN': 'Europe',\n",
    "    'BEL': 'Europe',\n",
    "    'PAK': 'Asia',\n",
    "    'ITA': 'Europe',\n",
    "    'BRA': 'South America',\n",
    "    'SWE': 'Europe',\n",
    "    'CHL': 'South America',\n",
    "    'CHE': 'Europe',\n",
    "    'PRT': 'Europe',\n",
    "    'VEN': 'South America',\n",
    "    'LTU': 'Europe',\n",
    "    'AUT': 'Europe', \n",
    "    'URY': 'South America',\n",
    "    'HKG': 'Asia',\n",
    "    'GRC': 'Europe',\n",
    "    'IRL': 'Europe',\n",
    "    'MEX': 'Central America',\n",
    "    'HRV': 'Europe',\n",
    "    'KOR': 'Asia',\n",
    "    'ZAF': 'Africa',\n",
    "    'TUR': 'Asia',\n",
    "    'CZE': 'Europe',\n",
    "    'ISL': 'Europe',\n",
    "    'MYS': 'Asia',\n",
    "    'LVA': 'Europe',\n",
    "    'POL': 'Europe',\n",
    "    'LBN': 'Asia',\n",
    "    'UKR': 'Europe',\n",
    "    'RUS': 'Europe',\n",
    "    'COL': 'South America',\n",
    "    'EGY': 'Africa',\n",
    "    'PHL': 'Asia',\n",
    "    'GTM': 'South America',\n",
    "    'GHA': 'Africa',\n",
    "    'LUX': 'Europe',\n",
    "    'HUN': 'Europe',\n",
    "    'ROM': 'Europe',\n",
    "    'LKA': 'Asia',\n",
    "    'MAR': 'Africa',\n",
    "    'MKD': 'Europe',\n",
    "    'KEN': 'Africa',\n",
    "    'NZL': 'Oceania', \n",
    "    'CRI': 'Africa',\n",
    "    'SVN': 'Europe',\n",
    "    'PER': 'South America',\n",
    "    'SRB': 'Europe',\n",
    "    'THA': 'Asia',\n",
    "    'MLT': 'Europe',\n",
    "    'EST': 'Europe',\n",
    "    'CYP': 'Europe',\n",
    "    'MUS': 'Africa',\n",
    "    'JOR': 'Middle East',\n",
    "    'SVK': 'Europe',\n",
    "    'TUN': 'Africa',\n",
    "    'UGA': 'Africa',\n",
    "    'NGA': 'Africa',\n",
    "    'MMR': 'Asia',\n",
    "    'ZMB': 'Africa',\n",
    "    'MAC': 'Asia',\n",
    "    'BLR': 'Europe',\n",
    "    'BGD': 'Asia',\n",
    "    'RWA': 'Africa',\n",
    "    'BMU': 'Central America',\n",
    "    'AZE': 'Asia',\n",
    "    'SAU': 'Middle East',\n",
    "    'BHR': 'Middle East',\n",
    "    'KAZ': 'Europe',\n",
    "    'CIV': 'Africa',\n",
    "    'OMN': 'Middle East',\n",
    "    'COM': 'South America',\n",
    "    'PSE': 'Asia',\n",
    "    'SLV': 'Europe',\n",
    "    'PAN': 'Central America',\n",
    "    'CMR': 'Africa',\n",
    "    'ECU': 'South America',\n",
    "    'BWA': 'Africa',\n",
    "    'BIH': 'Europe',\n",
    "    'PRI': 'Central America',\n",
    "    'ALB': 'Europe',\n",
    "    'JAM': 'Central America',\n",
    "    'TAN': 'Europe',\n",
    "    'NIC': 'South America',\n",
    "    'MDA': 'Europe',\n",
    "    'ZWE': 'Africa',\n",
    "    'QAT': 'Middle East',\n",
    "    'CYM': 'Central America',\n",
    "    'IRN': 'Middle East',\n",
    "    'DOM': 'Africa',\n",
    "    'IMN': 'Europe',\n",
    "    'SYC': 'Africa',\n",
    "    'TTO': 'Central America',\n",
    "    'KWT': 'Africa',\n",
    "    'ARM': 'Europe',\n",
    "    'GEO': 'Europe',\n",
    "    'PRY': 'South America',\n",
    "    'MNG': 'Africa',\n",
    "    'BRB': 'Central America',\n",
    "    'NPL': 'Asia',\n",
    "    'BLZ': 'Europe',\n",
    "    'COD': 'Africa',\n",
    "    'MOZ': 'Africa',\n",
    "    'SEN': 'Africa', \n",
    "    'MNE': 'Europe',\n",
    "    'AGO': 'Africa',\n",
    "    'JEY': 'Europe',\n",
    "    'GIN': 'Africa',\n",
    "    'HTI': 'Central America',\n",
    "    'KHM': 'Asia',\n",
    "    'GIB': 'Europe',\n",
    "    'MLI': 'Africa',\n",
    "    'MWI': 'Africa',\n",
    "    'GMB': 'Africa',\n",
    "    'AFG': 'Asia',\n",
    "    'BAH': 'Central America',\n",
    "    'LIE': 'Europe',\n",
    "    'CUB': 'Central America',\n",
    "    'IRQ': 'Middle East',\n",
    "    'ETH': 'Africa',\n",
    "    'REU': 'Africa',\n",
    "    'PNG': 'Oceania',\n",
    "    'DJI': 'Africa',\n",
    "    'GAB': 'Africa',\n",
    "    'NER': 'Africa',\n",
    "    'SYR': 'Middle East',\n",
    "    'TGO': 'Africa',\n",
    "    'KNA': 'Central America',\n",
    "    'GGY': 'Europe',\n",
    "    'MDV': 'Asia',\n",
    "    'HND': 'Central America',\n",
    "    'AIA': 'Africa',\n",
    "    'DZA': 'Africa',\n",
    "    'GUY': 'South America',\n",
    "    'YEM': 'Middle East',\n",
    "    'BTN': 'Asia',\n",
    "    'NAM': 'Africa',\n",
    "    'LCA': 'Central America',\n",
    "    'BOL': 'South America',\n",
    "    'IOT': 'Asia',\n",
    "    'MDG': 'Africa',\n",
    "    'DMA': 'Central America',\n",
    "    'ASM': 'Central America',\n",
    "    'BEN': 'Asia',\n",
    "    'LBR': 'Africa',\n",
    "    'BRN': 'Asia',\n",
    "    'UZB': 'Asia',\n",
    "    'SOM': 'Africa',\n",
    "    'MNP': 'Central America',\n",
    "    'LBY': 'Africa',\n",
    "    'ABW': 'South America',\n",
    "    'BFA': 'Africa',\n",
    "    'SLE': 'Africa',\n",
    "    'TJK': 'Asia',\n",
    "    'LAO': 'Asia',\n",
    "    'SMR': 'Europe',\n",
    "    'LSO': 'Africa',\n",
    "    'DNK': 'Europe',\n",
    "    'JPN': 'Asia',\n",
    "    'TWN': 'Asia'\n",
    "}\n",
    "df['region'] = df['country_code'].apply(lambda c: region.get(c, 'Unknown'))"
   ]
  },
  {
   "cell_type": "code",
   "execution_count": 34,
   "id": "a8ba4643",
   "metadata": {},
   "outputs": [
    {
     "data": {
      "text/plain": [
       "North America      43984\n",
       "Europe             25636\n",
       "Asia               22431\n",
       "South America       2749\n",
       "Oceania             1803\n",
       "Africa              1749\n",
       "Central America      711\n",
       "Middle East          371\n",
       "Name: region, dtype: int64"
      ]
     },
     "execution_count": 34,
     "metadata": {},
     "output_type": "execute_result"
    }
   ],
   "source": [
    "df.region.value_counts()"
   ]
  },
  {
   "cell_type": "markdown",
   "id": "441acc6b",
   "metadata": {},
   "source": [
    "### Generating the Success Variable\n",
    "\n",
    "from status variable closed = 0 (failed), != closed = 1(successful)"
   ]
  },
  {
   "cell_type": "code",
   "execution_count": 35,
   "id": "ba1aff53",
   "metadata": {},
   "outputs": [],
   "source": [
    "status = {\n",
    "    'operating': 1,\n",
    "    'acquired': 1,\n",
    "    'ipo': 1,\n",
    "    'closed': 0\n",
    "}\n",
    "df['status'] = df['status'].apply(lambda c: status.get(c, 'Unknown'))"
   ]
  },
  {
   "cell_type": "markdown",
   "id": "2f375250",
   "metadata": {},
   "source": [
    "### Removing features that are not needed"
   ]
  },
  {
   "cell_type": "code",
   "execution_count": 36,
   "id": "3562a3b2",
   "metadata": {},
   "outputs": [],
   "source": [
    "df = df.drop(['uuid','type','permalink','cb_url','rank','created_at','updated_at','legal_name','roles','country_code',\n",
    "             'state_code','city','address','postal_code','category_list','category_groups_list','total_funding',\n",
    "              'total_funding_currency_code','founded_on','last_funding_on','closed_on','email','phone',\n",
    "             'logo_url','alias1','alias2','alias3','primary_role','num_exits','domain'], axis=1)"
   ]
  },
  {
   "cell_type": "code",
   "execution_count": 37,
   "id": "a4b6ee6b",
   "metadata": {},
   "outputs": [
    {
     "data": {
      "text/plain": [
       "name                      False\n",
       "homepage_url              False\n",
       "region                    False\n",
       "status                    False\n",
       "short_description         False\n",
       "num_funding_rounds        False\n",
       "total_funding_usd         False\n",
       "employee_count            False\n",
       "age                       False\n",
       "yrs_since_last_funding    False\n",
       "last_funding_lag          False\n",
       "social                    False\n",
       "sector                    False\n",
       "dtype: bool"
      ]
     },
     "execution_count": 37,
     "metadata": {},
     "output_type": "execute_result"
    }
   ],
   "source": [
    "df.isnull().any()"
   ]
  },
  {
   "cell_type": "markdown",
   "id": "d7f059ff",
   "metadata": {},
   "source": [
    "### Descriptives"
   ]
  },
  {
   "cell_type": "code",
   "execution_count": 38,
   "id": "e6bcda9d",
   "metadata": {},
   "outputs": [],
   "source": [
    "df['total_funding_usd'] = df['total_funding_usd'].astype(int)\n",
    "df['age'] = df['age'].astype(int)\n",
    "df['last_funding_lag'] = df['last_funding_lag'].astype(int)"
   ]
  },
  {
   "cell_type": "code",
   "execution_count": 39,
   "id": "53fea939",
   "metadata": {},
   "outputs": [
    {
     "data": {
      "text/plain": [
       "<AxesSubplot:xlabel='status', ylabel='num_funding_rounds'>"
      ]
     },
     "execution_count": 39,
     "metadata": {},
     "output_type": "execute_result"
    },
    {
     "data": {
      "image/png": "[encoded data removed]",
      "text/plain": [
       "<Figure size 432x360 with 1 Axes>"
      ]
     },
     "metadata": {},
     "output_type": "display_data"
    }
   ],
   "source": [
    "sns.set(rc={'figure.figsize':(6,5)})\n",
    "sns.boxplot(x='status', y='num_funding_rounds', data = df)"
   ]
  },
  {
   "cell_type": "code",
   "execution_count": 40,
   "id": "9c9979a8",
   "metadata": {},
   "outputs": [
    {
     "data": {
      "text/plain": [
       "<AxesSubplot:xlabel='status', ylabel='age'>"
      ]
     },
     "execution_count": 40,
     "metadata": {},
     "output_type": "execute_result"
    },
    {
     "data": {
      "image/png": "[encoded data removed]",
      "text/plain": [
       "<Figure size 432x360 with 1 Axes>"
      ]
     },
     "metadata": {},
     "output_type": "display_data"
    }
   ],
   "source": [
    "sns.set(rc={'figure.figsize':(6, 5)})\n",
    "sns.boxplot(x='status', y='age', data = df)"
   ]
  },
  {
   "cell_type": "code",
   "execution_count": 41,
   "id": "a812d589",
   "metadata": {},
   "outputs": [
    {
     "data": {
      "text/plain": [
       "<AxesSubplot:xlabel='status', ylabel='yrs_since_last_funding'>"
      ]
     },
     "execution_count": 41,
     "metadata": {},
     "output_type": "execute_result"
    },
    {
     "data": {
      "image/png": "[encoded data removed]",
      "text/plain": [
       "<Figure size 432x360 with 1 Axes>"
      ]
     },
     "metadata": {},
     "output_type": "display_data"
    }
   ],
   "source": [
    "sns.set(rc={'figure.figsize':(6, 5)})\n",
    "sns.boxplot(x='status', y='yrs_since_last_funding', data = df)"
   ]
  },
  {
   "cell_type": "code",
   "execution_count": 42,
   "id": "d1e66b8f",
   "metadata": {},
   "outputs": [
    {
     "data": {
      "text/plain": [
       "<AxesSubplot:xlabel='status', ylabel='last_funding_lag'>"
      ]
     },
     "execution_count": 42,
     "metadata": {},
     "output_type": "execute_result"
    },
    {
     "data": {
      "image/png": "[encoded data removed]",
      "text/plain": [
       "<Figure size 432x360 with 1 Axes>"
      ]
     },
     "metadata": {},
     "output_type": "display_data"
    }
   ],
   "source": [
    "sns.set(rc={'figure.figsize':(6, 5)})\n",
    "sns.boxplot(x='status', y='last_funding_lag', data = df)"
   ]
  },
  {
   "cell_type": "markdown",
   "id": "14a56710",
   "metadata": {},
   "source": [
    "There appear to be outliers, with respect to the financial variables. However, they are natural data points\n",
    "that represent accurate values. They are therefore not excluded from the populations. \n",
    "\n",
    "The feature 'total_funding_usd' needs to be scaled and is done below:"
   ]
  },
  {
   "cell_type": "markdown",
   "id": "ca618989",
   "metadata": {},
   "source": [
    "### Scaling Total Funding USD"
   ]
  },
  {
   "cell_type": "code",
   "execution_count": 43,
   "id": "51767fc0",
   "metadata": {},
   "outputs": [],
   "source": [
    "df['tf_usd_log'] = np.log(df['total_funding_usd'] + 0.0001)\n",
    "#adding small value as log of zero is infinite\n",
    "\n",
    "from sklearn.preprocessing import StandardScaler\n",
    "ss = StandardScaler()\n",
    "df['tf_usd_scaled'] = ss.fit_transform(df['total_funding_usd'].values.reshape(-1,1))\n",
    "\n",
    "from sklearn.preprocessing import MinMaxScaler\n",
    "mm = MinMaxScaler()\n",
    "df['tf_usd_mm'] = mm.fit_transform(df['total_funding_usd'].values.reshape(-1,1))"
   ]
  },
  {
   "cell_type": "code",
   "execution_count": 45,
   "id": "3b42995e",
   "metadata": {},
   "outputs": [
    {
     "data": {
      "image/png": "[encoded data removed]",
      "text/plain": [
       "<Figure size 1152x288 with 4 Axes>"
      ]
     },
     "metadata": {},
     "output_type": "display_data"
    }
   ],
   "source": [
    "# Visualising Scaling Methods:\n",
    "\n",
    "import matplotlib.pyplot as plt\n",
    "\n",
    "fig, axs = plt.subplots(nrows = 1, ncols = 4, figsize = (16,4))\n",
    "\n",
    "sns.boxplot(x='status',y='total_funding_usd',data=df, ax=axs[0])\n",
    "axs[0].set_title(\"Status vs Total Funding (USD)\")\n",
    "\n",
    "sns.boxplot(x='status',y='tf_usd_log',data=df, ax=axs[1])\n",
    "axs[1].set_title(\"Status vs Log Total Funding (USD)\")\n",
    "\n",
    "sns.boxplot(x='status',y='tf_usd_scaled',data=df, ax=axs[2])\n",
    "axs[2].set_title(\"Status vs Scaled Total Funding (USD)\")\n",
    "\n",
    "sns.boxplot(x='status',y='tf_usd_mm',data=df, ax=axs[3])\n",
    "axs[3].set_title(\"Status vs Normalised Total Funding (USD)\")\n",
    "\n",
    "plt.show()"
   ]
  },
  {
   "cell_type": "markdown",
   "id": "e9682c6b",
   "metadata": {},
   "source": [
    "We will be proceeding with the Log Transformation of Total Funding USD"
   ]
  },
  {
   "cell_type": "code",
   "execution_count": 46,
   "id": "9af42821",
   "metadata": {},
   "outputs": [
    {
     "data": {
      "text/plain": [
       "Text(0.5, 1.0, 'Funding Distribution for Successful and Failed Companies')"
      ]
     },
     "execution_count": 46,
     "metadata": {},
     "output_type": "execute_result"
    },
    {
     "data": {
      "image/png": "[encoded data removed]",
      "text/plain": [
       "<Figure size 432x360 with 1 Axes>"
      ]
     },
     "metadata": {},
     "output_type": "display_data"
    }
   ],
   "source": [
    "sns.set(rc={'figure.figsize':(6, 5)})\n",
    "sns.boxplot(x='status', y='tf_usd_log', data = df)\n",
    "plt.title('Funding Distribution for Successful and Failed Companies')"
   ]
  },
  {
   "cell_type": "markdown",
   "id": "a515c5ca",
   "metadata": {},
   "source": [
    "### Correlation Between Variables"
   ]
  },
  {
   "cell_type": "code",
   "execution_count": 47,
   "id": "1b9a435f",
   "metadata": {},
   "outputs": [
    {
     "data": {
      "text/plain": [
       "status                    1.000000\n",
       "last_funding_lag          0.188391\n",
       "tf_usd_log                0.164543\n",
       "num_funding_rounds        0.098924\n",
       "age                      -0.199719\n",
       "yrs_since_last_funding   -0.353914\n",
       "Name: status, dtype: float64"
      ]
     },
     "execution_count": 47,
     "metadata": {},
     "output_type": "execute_result"
    }
   ],
   "source": [
    "df[['tf_usd_log','age','num_funding_rounds','yrs_since_last_funding','last_funding_lag','status']].corr()['status'].sort_values(ascending=False).head(10)"
   ]
  },
  {
   "cell_type": "code",
   "execution_count": 48,
   "id": "7aa46506",
   "metadata": {},
   "outputs": [
    {
     "data": {
      "text/plain": [
       "<AxesSubplot:title={'center':'Correlation Matrix of Continuous Variables'}>"
      ]
     },
     "execution_count": 48,
     "metadata": {},
     "output_type": "execute_result"
    },
    {
     "data": {
      "image/png": "[encoded data removed]",
      "text/plain": [
       "<Figure size 432x360 with 2 Axes>"
      ]
     },
     "metadata": {},
     "output_type": "display_data"
    }
   ],
   "source": [
    "plt.title('Correlation Matrix of Continuous Variables')\n",
    "sns.heatmap(df[['tf_usd_log','age','num_funding_rounds','yrs_since_last_funding','last_funding_lag','status']]\n",
    "           .corr(),linewidths=0.25,vmax=0.7,square=True,cmap=\"rocket\",linecolor='w',annot=True)"
   ]
  },
  {
   "cell_type": "markdown",
   "id": "f2ffa5ba",
   "metadata": {},
   "source": [
    "### One-Hot Encoding of Categorical Variables"
   ]
  },
  {
   "cell_type": "code",
   "execution_count": 49,
   "id": "f6083400",
   "metadata": {},
   "outputs": [
    {
     "name": "stdout",
     "output_type": "stream",
     "text": [
      "<class 'pandas.core.frame.DataFrame'>\n",
      "Int64Index: 99434 entries, 386 to 2160247\n",
      "Data columns (total 16 columns):\n",
      " #   Column                  Non-Null Count  Dtype  \n",
      "---  ------                  --------------  -----  \n",
      " 0   name                    99434 non-null  object \n",
      " 1   homepage_url            99434 non-null  object \n",
      " 2   region                  99434 non-null  object \n",
      " 3   status                  99434 non-null  int64  \n",
      " 4   short_description       99434 non-null  object \n",
      " 5   num_funding_rounds      99434 non-null  float64\n",
      " 6   total_funding_usd       99434 non-null  int64  \n",
      " 7   employee_count          99434 non-null  object \n",
      " 8   age                     99434 non-null  int64  \n",
      " 9   yrs_since_last_funding  99434 non-null  int64  \n",
      " 10  last_funding_lag        99434 non-null  int64  \n",
      " 11  social                  99434 non-null  object \n",
      " 12  sector                  99434 non-null  object \n",
      " 13  tf_usd_log              99434 non-null  float64\n",
      " 14  tf_usd_scaled           99434 non-null  float64\n",
      " 15  tf_usd_mm               99434 non-null  float64\n",
      "dtypes: float64(4), int64(5), object(7)\n",
      "memory usage: 14.9+ MB\n"
     ]
    }
   ],
   "source": [
    "df.info()"
   ]
  },
  {
   "cell_type": "code",
   "execution_count": 50,
   "id": "d97c9135",
   "metadata": {},
   "outputs": [
    {
     "data": {
      "text/html": [
       "<div>\n",
       "<style scoped>\n",
       "    .dataframe tbody tr th:only-of-type {\n",
       "        vertical-align: middle;\n",
       "    }\n",
       "\n",
       "    .dataframe tbody tr th {\n",
       "        vertical-align: top;\n",
       "    }\n",
       "\n",
       "    .dataframe thead th {\n",
       "        text-align: right;\n",
       "    }\n",
       "</style>\n",
       "<table border=\"1\" class=\"dataframe\">\n",
       "  <thead>\n",
       "    <tr style=\"text-align: right;\">\n",
       "      <th></th>\n",
       "      <th>name</th>\n",
       "      <th>homepage_url</th>\n",
       "      <th>status</th>\n",
       "      <th>short_description</th>\n",
       "      <th>num_funding_rounds</th>\n",
       "      <th>total_funding_usd</th>\n",
       "      <th>age</th>\n",
       "      <th>yrs_since_last_funding</th>\n",
       "      <th>last_funding_lag</th>\n",
       "      <th>tf_usd_log</th>\n",
       "      <th>tf_usd_scaled</th>\n",
       "      <th>tf_usd_mm</th>\n",
       "      <th>emp_LSE</th>\n",
       "      <th>emp_MSE</th>\n",
       "      <th>emp_SSE</th>\n",
       "      <th>social_Medium</th>\n",
       "      <th>social_None</th>\n",
       "      <th>social_Strong</th>\n",
       "      <th>social_Weak</th>\n",
       "      <th>sector_Communications Services</th>\n",
       "      <th>sector_Consumer Directory</th>\n",
       "      <th>sector_Consumer Staples</th>\n",
       "      <th>sector_Financial Services</th>\n",
       "      <th>sector_Health Care</th>\n",
       "      <th>sector_Industrials</th>\n",
       "      <th>sector_Real Estate</th>\n",
       "      <th>sector_Technology</th>\n",
       "      <th>region_Africa</th>\n",
       "      <th>region_Asia</th>\n",
       "      <th>region_Central America</th>\n",
       "      <th>region_Europe</th>\n",
       "      <th>region_Middle East</th>\n",
       "      <th>region_North America</th>\n",
       "      <th>region_Oceania</th>\n",
       "      <th>region_South America</th>\n",
       "    </tr>\n",
       "  </thead>\n",
       "  <tbody>\n",
       "    <tr>\n",
       "      <th>386</th>\n",
       "      <td>Edgio</td>\n",
       "      <td>https://edg.io/company</td>\n",
       "      <td>1</td>\n",
       "      <td>Edgio provides edge-enabled solutions for busi...</td>\n",
       "      <td>1.0</td>\n",
       "      <td>130000000</td>\n",
       "      <td>0</td>\n",
       "      <td>16</td>\n",
       "      <td>-16</td>\n",
       "      <td>18.683045</td>\n",
       "      <td>0.529697</td>\n",
       "      <td>5.715115e-03</td>\n",
       "      <td>1</td>\n",
       "      <td>0</td>\n",
       "      <td>0</td>\n",
       "      <td>0</td>\n",
       "      <td>0</td>\n",
       "      <td>1</td>\n",
       "      <td>0</td>\n",
       "      <td>1</td>\n",
       "      <td>0</td>\n",
       "      <td>0</td>\n",
       "      <td>0</td>\n",
       "      <td>0</td>\n",
       "      <td>0</td>\n",
       "      <td>0</td>\n",
       "      <td>0</td>\n",
       "      <td>0</td>\n",
       "      <td>0</td>\n",
       "      <td>0</td>\n",
       "      <td>0</td>\n",
       "      <td>0</td>\n",
       "      <td>1</td>\n",
       "      <td>0</td>\n",
       "      <td>0</td>\n",
       "    </tr>\n",
       "    <tr>\n",
       "      <th>454</th>\n",
       "      <td>News Corp</td>\n",
       "      <td>http://www.newscorp.com</td>\n",
       "      <td>1</td>\n",
       "      <td>News Corp is a media and information services ...</td>\n",
       "      <td>3.0</td>\n",
       "      <td>512500000</td>\n",
       "      <td>9</td>\n",
       "      <td>0</td>\n",
       "      <td>9</td>\n",
       "      <td>20.054811</td>\n",
       "      <td>2.428483</td>\n",
       "      <td>2.253074e-02</td>\n",
       "      <td>1</td>\n",
       "      <td>0</td>\n",
       "      <td>0</td>\n",
       "      <td>0</td>\n",
       "      <td>0</td>\n",
       "      <td>1</td>\n",
       "      <td>0</td>\n",
       "      <td>1</td>\n",
       "      <td>0</td>\n",
       "      <td>0</td>\n",
       "      <td>0</td>\n",
       "      <td>0</td>\n",
       "      <td>0</td>\n",
       "      <td>0</td>\n",
       "      <td>0</td>\n",
       "      <td>0</td>\n",
       "      <td>0</td>\n",
       "      <td>0</td>\n",
       "      <td>0</td>\n",
       "      <td>0</td>\n",
       "      <td>1</td>\n",
       "      <td>0</td>\n",
       "      <td>0</td>\n",
       "    </tr>\n",
       "    <tr>\n",
       "      <th>505</th>\n",
       "      <td>Wolf - Band Radio</td>\n",
       "      <td>http://www.anywhere.fm</td>\n",
       "      <td>1</td>\n",
       "      <td>Ascolta ovunque dal Web.</td>\n",
       "      <td>1.0</td>\n",
       "      <td>15000</td>\n",
       "      <td>2</td>\n",
       "      <td>15</td>\n",
       "      <td>-13</td>\n",
       "      <td>9.615805</td>\n",
       "      <td>-0.115568</td>\n",
       "      <td>6.593924e-07</td>\n",
       "      <td>0</td>\n",
       "      <td>0</td>\n",
       "      <td>1</td>\n",
       "      <td>0</td>\n",
       "      <td>1</td>\n",
       "      <td>0</td>\n",
       "      <td>0</td>\n",
       "      <td>0</td>\n",
       "      <td>0</td>\n",
       "      <td>0</td>\n",
       "      <td>0</td>\n",
       "      <td>0</td>\n",
       "      <td>0</td>\n",
       "      <td>0</td>\n",
       "      <td>1</td>\n",
       "      <td>0</td>\n",
       "      <td>0</td>\n",
       "      <td>0</td>\n",
       "      <td>0</td>\n",
       "      <td>0</td>\n",
       "      <td>1</td>\n",
       "      <td>0</td>\n",
       "      <td>0</td>\n",
       "    </tr>\n",
       "    <tr>\n",
       "      <th>800</th>\n",
       "      <td>Ripl</td>\n",
       "      <td>https://www.ripl.com</td>\n",
       "      <td>1</td>\n",
       "      <td>Ripl is a software company with mobile and web...</td>\n",
       "      <td>8.0</td>\n",
       "      <td>8110000</td>\n",
       "      <td>10</td>\n",
       "      <td>5</td>\n",
       "      <td>5</td>\n",
       "      <td>15.908608</td>\n",
       "      <td>-0.075383</td>\n",
       "      <td>3.565352e-04</td>\n",
       "      <td>0</td>\n",
       "      <td>0</td>\n",
       "      <td>1</td>\n",
       "      <td>0</td>\n",
       "      <td>0</td>\n",
       "      <td>1</td>\n",
       "      <td>0</td>\n",
       "      <td>0</td>\n",
       "      <td>0</td>\n",
       "      <td>0</td>\n",
       "      <td>0</td>\n",
       "      <td>0</td>\n",
       "      <td>0</td>\n",
       "      <td>0</td>\n",
       "      <td>1</td>\n",
       "      <td>0</td>\n",
       "      <td>0</td>\n",
       "      <td>0</td>\n",
       "      <td>0</td>\n",
       "      <td>0</td>\n",
       "      <td>1</td>\n",
       "      <td>0</td>\n",
       "      <td>0</td>\n",
       "    </tr>\n",
       "    <tr>\n",
       "      <th>832</th>\n",
       "      <td>VoiceSell</td>\n",
       "      <td>http://www.voicesell.com</td>\n",
       "      <td>0</td>\n",
       "      <td>Mobile is becoming the dominant commerce custo...</td>\n",
       "      <td>1.0</td>\n",
       "      <td>4000000</td>\n",
       "      <td>4</td>\n",
       "      <td>3</td>\n",
       "      <td>1</td>\n",
       "      <td>15.201805</td>\n",
       "      <td>-0.095786</td>\n",
       "      <td>1.758496e-04</td>\n",
       "      <td>0</td>\n",
       "      <td>0</td>\n",
       "      <td>1</td>\n",
       "      <td>0</td>\n",
       "      <td>0</td>\n",
       "      <td>1</td>\n",
       "      <td>0</td>\n",
       "      <td>0</td>\n",
       "      <td>0</td>\n",
       "      <td>0</td>\n",
       "      <td>0</td>\n",
       "      <td>0</td>\n",
       "      <td>0</td>\n",
       "      <td>0</td>\n",
       "      <td>1</td>\n",
       "      <td>0</td>\n",
       "      <td>0</td>\n",
       "      <td>0</td>\n",
       "      <td>0</td>\n",
       "      <td>0</td>\n",
       "      <td>1</td>\n",
       "      <td>0</td>\n",
       "      <td>0</td>\n",
       "    </tr>\n",
       "  </tbody>\n",
       "</table>\n",
       "</div>"
      ],
      "text/plain": [
       "                  name              homepage_url  status  \\\n",
       "386              Edgio    https://edg.io/company       1   \n",
       "454          News Corp   http://www.newscorp.com       1   \n",
       "505  Wolf - Band Radio    http://www.anywhere.fm       1   \n",
       "800               Ripl      https://www.ripl.com       1   \n",
       "832          VoiceSell  http://www.voicesell.com       0   \n",
       "\n",
       "                                     short_description  num_funding_rounds  \\\n",
       "386  Edgio provides edge-enabled solutions for busi...                 1.0   \n",
       "454  News Corp is a media and information services ...                 3.0   \n",
       "505                           Ascolta ovunque dal Web.                 1.0   \n",
       "800  Ripl is a software company with mobile and web...                 8.0   \n",
       "832  Mobile is becoming the dominant commerce custo...                 1.0   \n",
       "\n",
       "     total_funding_usd  age  yrs_since_last_funding  last_funding_lag  \\\n",
       "386          130000000    0                      16               -16   \n",
       "454          512500000    9                       0                 9   \n",
       "505              15000    2                      15               -13   \n",
       "800            8110000   10                       5                 5   \n",
       "832            4000000    4                       3                 1   \n",
       "\n",
       "     tf_usd_log  tf_usd_scaled     tf_usd_mm  emp_LSE  emp_MSE  emp_SSE  \\\n",
       "386   18.683045       0.529697  5.715115e-03        1        0        0   \n",
       "454   20.054811       2.428483  2.253074e-02        1        0        0   \n",
       "505    9.615805      -0.115568  6.593924e-07        0        0        1   \n",
       "800   15.908608      -0.075383  3.565352e-04        0        0        1   \n",
       "832   15.201805      -0.095786  1.758496e-04        0        0        1   \n",
       "\n",
       "     social_Medium  social_None  social_Strong  social_Weak  \\\n",
       "386              0            0              1            0   \n",
       "454              0            0              1            0   \n",
       "505              0            1              0            0   \n",
       "800              0            0              1            0   \n",
       "832              0            0              1            0   \n",
       "\n",
       "     sector_Communications Services  sector_Consumer Directory  \\\n",
       "386                               1                          0   \n",
       "454                               1                          0   \n",
       "505                               0                          0   \n",
       "800                               0                          0   \n",
       "832                               0                          0   \n",
       "\n",
       "     sector_Consumer Staples  sector_Financial Services  sector_Health Care  \\\n",
       "386                        0                          0                   0   \n",
       "454                        0                          0                   0   \n",
       "505                        0                          0                   0   \n",
       "800                        0                          0                   0   \n",
       "832                        0                          0                   0   \n",
       "\n",
       "     sector_Industrials  sector_Real Estate  sector_Technology  region_Africa  \\\n",
       "386                   0                   0                  0              0   \n",
       "454                   0                   0                  0              0   \n",
       "505                   0                   0                  1              0   \n",
       "800                   0                   0                  1              0   \n",
       "832                   0                   0                  1              0   \n",
       "\n",
       "     region_Asia  region_Central America  region_Europe  region_Middle East  \\\n",
       "386            0                       0              0                   0   \n",
       "454            0                       0              0                   0   \n",
       "505            0                       0              0                   0   \n",
       "800            0                       0              0                   0   \n",
       "832            0                       0              0                   0   \n",
       "\n",
       "     region_North America  region_Oceania  region_South America  \n",
       "386                     1               0                     0  \n",
       "454                     1               0                     0  \n",
       "505                     1               0                     0  \n",
       "800                     1               0                     0  \n",
       "832                     1               0                     0  "
      ]
     },
     "execution_count": 50,
     "metadata": {},
     "output_type": "execute_result"
    }
   ],
   "source": [
    "df = pd.get_dummies(df, columns=[\"employee_count\",\"social\",\"sector\",\"region\"],\n",
    "                   prefix=['emp','social','sector','region'])\n",
    "df.head()"
   ]
  },
  {
   "cell_type": "code",
   "execution_count": 51,
   "id": "16d96bfd",
   "metadata": {},
   "outputs": [
    {
     "data": {
      "text/plain": [
       "(99434, 35)"
      ]
     },
     "execution_count": 51,
     "metadata": {},
     "output_type": "execute_result"
    }
   ],
   "source": [
    "df.shape"
   ]
  },
  {
   "cell_type": "markdown",
   "id": "364b138e",
   "metadata": {},
   "source": [
    "### Checking Variance of Features "
   ]
  },
  {
   "cell_type": "code",
   "execution_count": 52,
   "id": "d74216d7",
   "metadata": {},
   "outputs": [
    {
     "name": "stdout",
     "output_type": "stream",
     "text": [
      "status                            9.366935e-02\n",
      "num_funding_rounds                3.397117e+00\n",
      "total_funding_usd                 4.058026e+16\n",
      "age                               6.516009e+00\n",
      "yrs_since_last_funding            7.067942e+00\n",
      "last_funding_lag                  5.236166e+00\n",
      "tf_usd_log                        5.593353e+00\n",
      "tf_usd_scaled                     1.000010e+00\n",
      "tf_usd_mm                         7.842925e-05\n",
      "emp_LSE                           3.499708e-02\n",
      "emp_MSE                           1.065695e-01\n",
      "emp_SSE                           1.327581e-01\n",
      "social_Medium                     1.496819e-01\n",
      "social_None                       1.115157e-01\n",
      "social_Strong                     2.457095e-01\n",
      "social_Weak                       1.896776e-01\n",
      "sector_Communications Services    4.455997e-02\n",
      "sector_Consumer Directory         1.105259e-01\n",
      "sector_Consumer Staples           1.217895e-01\n",
      "sector_Financial Services         8.407043e-02\n",
      "sector_Health Care                5.475947e-02\n",
      "sector_Industrials                1.513946e-01\n",
      "sector_Real Estate                7.604724e-03\n",
      "sector_Technology                 2.245130e-01\n",
      "region_Africa                     1.728034e-02\n",
      "region_Asia                       1.746992e-01\n",
      "region_Central America            7.099414e-03\n",
      "region_Europe                     1.913504e-01\n",
      "region_Middle East                3.717234e-03\n",
      "region_North America              2.466782e-01\n",
      "region_Oceania                    1.780402e-02\n",
      "region_South America              2.688242e-02\n",
      "dtype: float64\n"
     ]
    },
    {
     "name": "stderr",
     "output_type": "stream",
     "text": [
      "/var/folders/k2/8mbjx2mx4jg3bkxxj6m1xbs40000gn/T/ipykernel_68552/1942798189.py:1: FutureWarning: Dropping of nuisance columns in DataFrame reductions (with 'numeric_only=None') is deprecated; in a future version this will raise TypeError.  Select only valid columns before calling the reduction.\n",
      "  print(df.var())\n"
     ]
    }
   ],
   "source": [
    "print(df.var())"
   ]
  },
  {
   "cell_type": "code",
   "execution_count": 53,
   "id": "33d8998e",
   "metadata": {},
   "outputs": [
    {
     "data": {
      "text/plain": [
       "<function matplotlib.pyplot.show(close=None, block=None)>"
      ]
     },
     "execution_count": 53,
     "metadata": {},
     "output_type": "execute_result"
    },
    {
     "data": {
      "image/png": "[encoded data removed]",
      "text/plain": [
       "<Figure size 1800x1800 with 36 Axes>"
      ]
     },
     "metadata": {},
     "output_type": "display_data"
    }
   ],
   "source": [
    "df.hist(figsize=(25,25))\n",
    "plt.show"
   ]
  },
  {
   "cell_type": "markdown",
   "id": "30245773",
   "metadata": {},
   "source": [
    "Features with near-zero variance to be dropped: 'Real Estate', 'Central America', 'Middle East', 'Oceania', 'Africa'"
   ]
  },
  {
   "cell_type": "code",
   "execution_count": 54,
   "id": "15ad9b51",
   "metadata": {},
   "outputs": [],
   "source": [
    "df = df.drop(df.loc[df['sector_Real Estate']=='1'].index)\n",
    "df = df.drop(df.loc[df['region_Central America']=='1'].index)\n",
    "df = df.drop(df.loc[df['region_Middle East']=='1'].index)\n",
    "df = df.drop(df.loc[df['region_Oceania']=='1'].index)\n",
    "df = df.drop(df.loc[df['region_Africa']=='1'].index)"
   ]
  },
  {
   "cell_type": "code",
   "execution_count": 55,
   "id": "659c3cd7",
   "metadata": {},
   "outputs": [
    {
     "data": {
      "text/plain": [
       "(99434, 35)"
      ]
     },
     "execution_count": 55,
     "metadata": {},
     "output_type": "execute_result"
    }
   ],
   "source": [
    "df.shape"
   ]
  },
  {
   "cell_type": "markdown",
   "id": "2b69d0ac",
   "metadata": {},
   "source": [
    "### Dropping the features not to be used in the final dataset"
   ]
  },
  {
   "cell_type": "code",
   "execution_count": 56,
   "id": "91a8a821",
   "metadata": {},
   "outputs": [],
   "source": [
    "df = df.drop(['region_Oceania', 'region_Middle East', 'region_Central America', \n",
    "              'region_Africa', 'sector_Real Estate', 'tf_usd_mm', 'tf_usd_scaled',\n",
    "             'total_funding_usd'], axis=1)\n"
   ]
  },
  {
   "cell_type": "code",
   "execution_count": 57,
   "id": "5e7c1f1c",
   "metadata": {},
   "outputs": [
    {
     "name": "stdout",
     "output_type": "stream",
     "text": [
      "<class 'pandas.core.frame.DataFrame'>\n",
      "Int64Index: 99434 entries, 386 to 2160247\n",
      "Data columns (total 27 columns):\n",
      " #   Column                          Non-Null Count  Dtype  \n",
      "---  ------                          --------------  -----  \n",
      " 0   name                            99434 non-null  object \n",
      " 1   homepage_url                    99434 non-null  object \n",
      " 2   status                          99434 non-null  int64  \n",
      " 3   short_description               99434 non-null  object \n",
      " 4   num_funding_rounds              99434 non-null  float64\n",
      " 5   age                             99434 non-null  int64  \n",
      " 6   yrs_since_last_funding          99434 non-null  int64  \n",
      " 7   last_funding_lag                99434 non-null  int64  \n",
      " 8   tf_usd_log                      99434 non-null  float64\n",
      " 9   emp_LSE                         99434 non-null  uint8  \n",
      " 10  emp_MSE                         99434 non-null  uint8  \n",
      " 11  emp_SSE                         99434 non-null  uint8  \n",
      " 12  social_Medium                   99434 non-null  uint8  \n",
      " 13  social_None                     99434 non-null  uint8  \n",
      " 14  social_Strong                   99434 non-null  uint8  \n",
      " 15  social_Weak                     99434 non-null  uint8  \n",
      " 16  sector_Communications Services  99434 non-null  uint8  \n",
      " 17  sector_Consumer Directory       99434 non-null  uint8  \n",
      " 18  sector_Consumer Staples         99434 non-null  uint8  \n",
      " 19  sector_Financial Services       99434 non-null  uint8  \n",
      " 20  sector_Health Care              99434 non-null  uint8  \n",
      " 21  sector_Industrials              99434 non-null  uint8  \n",
      " 22  sector_Technology               99434 non-null  uint8  \n",
      " 23  region_Asia                     99434 non-null  uint8  \n",
      " 24  region_Europe                   99434 non-null  uint8  \n",
      " 25  region_North America            99434 non-null  uint8  \n",
      " 26  region_South America            99434 non-null  uint8  \n",
      "dtypes: float64(2), int64(4), object(3), uint8(18)\n",
      "memory usage: 11.3+ MB\n"
     ]
    }
   ],
   "source": [
    "df.info()"
   ]
  },
  {
   "cell_type": "code",
   "execution_count": 58,
   "id": "f8f2217f",
   "metadata": {},
   "outputs": [],
   "source": [
    "df.to_csv('cleaned.csv')"
   ]
  },
  {
   "cell_type": "markdown",
   "id": "cde3763d",
   "metadata": {},
   "source": [
    "### Deriving Descriptive Variable Statistics"
   ]
  },
  {
   "cell_type": "code",
   "execution_count": 122,
   "id": "55ca3194",
   "metadata": {},
   "outputs": [
    {
     "data": {
      "text/plain": [
       "sector_Health Care  status\n",
       "0                   0          9950\n",
       "                    1         83703\n",
       "1                   0           452\n",
       "                    1          5329\n",
       "dtype: int64"
      ]
     },
     "execution_count": 122,
     "metadata": {},
     "output_type": "execute_result"
    }
   ],
   "source": [
    "df.groupby(['sector_Health Care', 'status']).size()"
   ]
  },
  {
   "cell_type": "code",
   "execution_count": 116,
   "id": "0b955c78",
   "metadata": {},
   "outputs": [
    {
     "data": {
      "text/plain": [
       "0.8920867561018853"
      ]
     },
     "execution_count": 116,
     "metadata": {},
     "output_type": "execute_result"
    }
   ],
   "source": [
    "30190/33842"
   ]
  },
  {
   "cell_type": "code",
   "execution_count": 117,
   "id": "c803ad6e",
   "metadata": {},
   "outputs": [
    {
     "data": {
      "text/plain": [
       "1    89032\n",
       "0    10402\n",
       "Name: status, dtype: int64"
      ]
     },
     "execution_count": 117,
     "metadata": {},
     "output_type": "execute_result"
    }
   ],
   "source": [
    "df.status.value_counts()"
   ]
  },
  {
   "cell_type": "code",
   "execution_count": 118,
   "id": "f7be07b8",
   "metadata": {},
   "outputs": [
    {
     "data": {
      "text/plain": [
       "0.8953878954884648"
      ]
     },
     "execution_count": 118,
     "metadata": {},
     "output_type": "execute_result"
    }
   ],
   "source": [
    "89032/99434"
   ]
  },
  {
   "cell_type": "code",
   "execution_count": null,
   "id": "a205560a",
   "metadata": {},
   "outputs": [],
   "source": []
  }
 ],
 "metadata": {
  "kernelspec": {
   "display_name": "Python 3 (ipykernel)",
   "language": "python",
   "name": "python3"
  },
  "language_info": {
   "codemirror_mode": {
    "name": "ipython",
    "version": 3
   },
   "file_extension": ".py",
   "mimetype": "text/x-python",
   "name": "python",
   "nbconvert_exporter": "python",
   "pygments_lexer": "ipython3",
   "version": "3.9.7"
  }
 },
 "nbformat": 4,
 "nbformat_minor": 5
}
